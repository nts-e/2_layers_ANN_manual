{
  "nbformat": 4,
  "nbformat_minor": 0,
  "metadata": {
    "colab": {
      "name": "2 hidden layers - CH11.ipynb",
      "provenance": [],
      "collapsed_sections": [],
      "authorship_tag": "ABX9TyPGndrf3nrsurssKLYkMY4K"
    },
    "kernelspec": {
      "name": "python3",
      "display_name": "Python 3"
    },
    "language_info": {
      "name": "python"
    }
  },
  "cells": [
    {
      "cell_type": "markdown",
      "source": [
        "An extension of the ANN implemented in the book “Implementing a Multi-layer Artificial Neural Network from Scratch” of the book “Machine Learning with PyTorch and Scikit-Learn” by Raschka et al. (2022), Chapter 11 ([link to code](https://github.com/rasbt/machine-learning-book/blob/main/ch11/ch11.ipynb)).\n",
        "\n",
        "The original code is being modified to create a 2-layer ANN. \n",
        "\n",
        "The first part is an exact copy of the author's code, except some changes in the split train/validation/test that were required in my task."
      ],
      "metadata": {
        "id": "_Lrz5ejHPW0O"
      }
    },
    {
      "cell_type": "code",
      "execution_count": null,
      "metadata": {
        "colab": {
          "base_uri": "https://localhost:8080/"
        },
        "id": "wHc3znFb3D8N",
        "outputId": "4e8b61df-6736-4dbe-ca92-0d5cfd601967"
      },
      "outputs": [
        {
          "output_type": "stream",
          "name": "stdout",
          "text": [
            "(70000, 784)\n",
            "(70000,)\n"
          ]
        }
      ],
      "source": [
        "import pandas as pd\n",
        "import numpy as np\n",
        "from sklearn.datasets import fetch_openml\n",
        "\n",
        "X, y = fetch_openml('mnist_784', version=1, return_X_y=True)\n",
        "X = X.values\n",
        "y = y.astype(int).values\n",
        "\n",
        "print(X.shape)\n",
        "print(y.shape)\n",
        "\n",
        "# Rescale\n",
        "X = ((X / 255.) - .5) * 2\n",
        "\n",
        "\n",
        "from sklearn.model_selection import train_test_split\n",
        "\n",
        "# different parameters than used in the book, according to my needs in the specific task\n",
        "\n",
        "# Train: 70% (Validation: 10% of Train), Test: 30% \n",
        "\n",
        "X_temp, X_test, y_temp, y_test = train_test_split(\n",
        "    X, y, test_size=0.3, random_state=123, stratify=y)\n",
        "\n",
        "X_train, X_valid, y_train, y_valid = train_test_split(\n",
        "    X_temp, y_temp, test_size=0.1, random_state=123, stratify=y_temp)\n",
        "\n",
        "# optional to free up some memory by deleting non-used arrays:\n",
        "del X_temp, y_temp, X, y\n",
        "\n",
        "\n"
      ]
    },
    {
      "cell_type": "markdown",
      "source": [
        "The model part is a copy of the author's code, with revisions to __init__, the forward and the backward functions.\n",
        "\n",
        "The most complex revision is in the backward function which is being used by the model for the backpropagation process. I added some annotations (e.g: [1]) that explain the calculations in the function.\n",
        "\n"
      ],
      "metadata": {
        "id": "2fYAiGaDP7PZ"
      }
    },
    {
      "cell_type": "code",
      "source": [
        "def sigmoid(z):                                        \n",
        "    return 1. / (1. + np.exp(-z))\n",
        "\n",
        "\n",
        "def int_to_onehot(y, num_labels):\n",
        "\n",
        "    ary = np.zeros((y.shape[0], num_labels))\n",
        "    for i, val in enumerate(y):\n",
        "        ary[i, val] = 1\n",
        "\n",
        "    return ary\n",
        "    \n",
        "class NeuralNetMLP:\n",
        "\n",
        "    def __init__(self, num_features, num_hidden, num_classes, random_seed=123):\n",
        "        super().__init__()\n",
        "        \n",
        "        self.num_classes = num_classes\n",
        "        \n",
        "        rng = np.random.RandomState(random_seed)\n",
        "        \n",
        "        # hidden 1\n",
        "        self.weight_h1 = rng.normal(loc=0.0, scale=0.1, size=(num_hidden, num_features))\n",
        "        self.bias_h1 = np.zeros(num_hidden)\n",
        "\n",
        "        # hidden 2\n",
        "        self.weight_h2 = rng.normal(loc=0.0, scale=0.1, size=(num_hidden, num_hidden))\n",
        "        self.bias_h2 = np.zeros(num_hidden)\n",
        "        \n",
        "        # output\n",
        "        self.weight_out = rng.normal(loc=0.0, scale=0.1, size=(num_classes, num_hidden))\n",
        "        self.bias_out = np.zeros(num_classes)\n",
        "        \n",
        "    def forward(self, x):\n",
        "\n",
        "        # Hidden layer 1\n",
        "        z_h1 = np.dot(x, self.weight_h1.T) + self.bias_h1\n",
        "        a_h1 = sigmoid(z_h1)\n",
        "\n",
        "        # Hidden layer 2\n",
        "        z_h2 = np.dot(a_h1, self.weight_h2.T) + self.bias_h2\n",
        "        a_h2 = sigmoid(z_h2)\n",
        "\n",
        "        # Output layer\n",
        "        z_out = np.dot(a_h2, self.weight_out.T) + self.bias_out\n",
        "        a_out = sigmoid(z_out)\n",
        "\n",
        "        return a_h1, a_h2, a_out\n",
        "\n",
        "    def backward(self, x, a_h1, a_h2, a_out, y):  \n",
        "    \n",
        "        #########################\n",
        "        ### Output layer weights\n",
        "        #########################\n",
        "        \n",
        "        # onehot encoding\n",
        "        y_onehot = int_to_onehot(y, self.num_classes)\n",
        "\n",
        "        # Part 1: \n",
        "        ## dLoss/dOutWeights = dLoss/dOutAct * dOutAct/dOutNet * dOutNet/dOutWeight\n",
        "        ## where DeltaOut = dLoss/dOutAct * dOutAct/dOutNet\n",
        "        \n",
        "        # Notes for clarifications: ###############################\n",
        "        #\n",
        "        # L - loss function\n",
        "        # W - Weights\n",
        "        # A - Activation\n",
        "        # Z - Before activation\n",
        "        # dL/dW = derivative of loss by the weights = dL/dA * dA/dZ * dz/dW\n",
        "        #         \n",
        "        #         enumeration is followed in the code below\n",
        "        #\n",
        "        #         [1] dL/dA = d(y_A)**2 = 2.*(a_out - y_onehot) / y.shape[0] <-- the y.shape related to the sigma because of mini batches\n",
        "        #         [2] dA/dZ = d(sigmoid(Z)) = a_out * (1. - a_out)\n",
        "        #         [3] dZ/dW = d(A_hidden*W+b)/dW = A_hidden\n",
        "        #\n",
        "        #         delta = [1] * [2]\n",
        "        #       \n",
        "        ########################################################### \n",
        "        \n",
        "        # input/output dim: [n_examples, n_classes]\n",
        "        \n",
        "        # [1]\n",
        "        d_loss__d_a_out = 2.*(a_out - y_onehot) / y.shape[0]\n",
        "\n",
        "        # input/output dim: [n_examples, n_classes]\n",
        "        # [2]\n",
        "        d_a_out__d_z_out = a_out * (1. - a_out) # sigmoid derivative\n",
        "\n",
        "        # output dim: [n_examples, n_classes]\n",
        "        \n",
        "        # [1] * [2]\n",
        "        delta_out = d_loss__d_a_out * d_a_out__d_z_out # \"delta (rule) placeholder\"\n",
        "\n",
        "        # gradient for output weights\n",
        "        \n",
        "        # [n_examples, n_hidden]\n",
        "        # [3]\n",
        "        d_z_out__dw_out = a_h2\n",
        "        \n",
        "        # input dim: [n_classes, n_examples] dot [n_examples, n_hidden]\n",
        "        # [1]*[2]*[3]\n",
        "        d_loss__dw_out = np.dot(delta_out.T, d_z_out__dw_out)\n",
        "\n",
        "        # output dim: [n_classes, n_hidden]\n",
        "        # sum([1]*[2]) – returned to be used in the bias calculation by the training function\n",
        "        d_loss__db_out = np.sum(delta_out, axis=0)\n",
        "        \n",
        "\n",
        "        #################################        \n",
        "        # Part 2: \n",
        "        #\n",
        "        # dLoss/dHidden2Weights = DeltaOut * dOutNet/dHidden2Act * dHidden2Act/dHidden2Net * dHidden2Net/dWeight2\n",
        "        #\n",
        "        # to compute the loss, using the delta_out from Part 1 above, \n",
        "        # briefly: delta_out * dZ/dA_hidden2 * dA_hidden2/dZ_hidden2  * dZ_hidden2/dW_hidden2\n",
        "        #           [1]*[2]  *      [11]     *         [12]           *         [13]\n",
        "\n",
        "\n",
        "        # [n_classes, n_hidden]\n",
        "        d_z_out__a_h2 = self.weight_out # dZ/dA_hidden. since z_out = A_hidden2 * W_out + b_out \n",
        "\n",
        "        # output dim: [n_examples, n_hidden]\n",
        " \n",
        "        # [1]*[2] * [11]\n",
        "        d_loss__a_h2 = np.dot(delta_out, d_z_out__a_h2)\n",
        "        \n",
        "        # [n_examples, n_hidden]\n",
        "        # [12]\n",
        "        d_a_h2__d_z_h2 = a_h2 * (1. - a_h2) # sigmoid derivative\n",
        "        \n",
        "        delta_h2 = d_loss__a_h2 * d_a_h2__d_z_h2\n",
        "\n",
        "        # [n_examples, n_hidden]#n_features]\n",
        "        # [13] \n",
        "        d_z_h2__d_w_h2 = a_h1 #since z_h2 = wh2*ah1+b2\n",
        "        \n",
        "        # output dim: [n_hidden, n_hidden]#n_features]\n",
        "        # [1]*[2]*[11]*[12]*[13]\n",
        "        d_loss__d_w_h2 = np.dot(delta_h2.T, d_z_h2__d_w_h2)\n",
        "\n",
        "        # sum([1]*[2]*[11]*[12]) – to be used in the bias calculation by the training function\n",
        "        d_loss__d_b_h2 = np.sum(delta_h2, axis=0)\n",
        "\n",
        "\n",
        "        #################################        \n",
        "        # Part 3: \n",
        "        # dLoss/dHidden1Weights = DeltaOut * dOutNet/dHidden1Act * dHidde1nAct/dHidden1Net * dHidden1Net/dWeight1\n",
        "\n",
        "        # delta_h2 * dZ_hidden2/dA_hidden1 * dA_hidden1/dZ_hidden1  * dZ_hidden1/dW_hidden1\n",
        "\n",
        "        # [n_classes, n_hidden]\n",
        "        d_z_h2__a_h1 = self.weight_h2 # dZ_hidden2/dA_hidden1. since z_hidden2 = A_hidden1 * W_hidden2 + b_hidden2 \n",
        "        \n",
        "        # output dim: [n_examples, n_hidden]\n",
        " \n",
        "        d_loss__a_h1 = np.dot(delta_h2, d_z_h2__a_h1)\n",
        "        \n",
        "        # [n_examples, n_hidden]\n",
        "        d_a_h1__d_z_h1 = a_h1 * (1. - a_h1) # sigmoid derivative\n",
        "        \n",
        "        # [n_examples, n_features]\n",
        "        d_z_h1__d_w_h1 = x # since z_h1=x*w_h1+b\n",
        "        \n",
        "        # output dim: [n_hidden, n_features]\n",
        "        d_loss__d_w_h1 = np.dot((d_loss__a_h1 * d_a_h1__d_z_h1).T, d_z_h1__d_w_h1)\n",
        "\n",
        "        # returned to be used by the bias calculation in the training\n",
        "        d_loss__d_b_h1 = np.sum((d_loss__a_h1 * d_a_h1__d_z_h1), axis=0)\n",
        "\n",
        "\n",
        "        return (d_loss__dw_out, d_loss__db_out, \n",
        "                d_loss__d_w_h2, d_loss__d_b_h2,\n",
        "                d_loss__d_w_h1, d_loss__d_b_h1)"
      ],
      "metadata": {
        "id": "1TG2JUoO_C3p"
      },
      "execution_count": null,
      "outputs": []
    },
    {
      "cell_type": "markdown",
      "source": [
        "Running the model with 2 layers required some modifications of the train function, to include the weight updates of the 2nd layer"
      ],
      "metadata": {
        "id": "CaNnzPuIRzmX"
      }
    },
    {
      "cell_type": "code",
      "source": [
        "model = NeuralNetMLP(num_features=28*28,\n",
        "                     num_hidden=50,\n",
        "                     num_classes=10)"
      ],
      "metadata": {
        "id": "GqqgjhgVHBgf"
      },
      "execution_count": null,
      "outputs": []
    },
    {
      "cell_type": "code",
      "source": [
        "num_epochs = 50\n",
        "minibatch_size = 100\n",
        "\n",
        "\n",
        "def minibatch_generator(X, y, minibatch_size):\n",
        "    indices = np.arange(X.shape[0])\n",
        "    np.random.shuffle(indices)\n",
        "\n",
        "    for start_idx in range(0, indices.shape[0] - minibatch_size \n",
        "                           + 1, minibatch_size):\n",
        "        batch_idx = indices[start_idx:start_idx + minibatch_size]\n",
        "        \n",
        "        # returns a generator\n",
        "        yield X[batch_idx], y[batch_idx]\n",
        "\n",
        "\n",
        "# testing the minibatch function: iterate over training epochs\n",
        "for i in range(num_epochs):\n",
        "\n",
        "    # iterate over minibatches\n",
        "    minibatch_gen = minibatch_generator(\n",
        "        X_train, y_train, minibatch_size)\n",
        "    \n",
        "    for X_train_mini, y_train_mini in minibatch_gen:\n",
        "\n",
        "        break\n",
        "        \n",
        "    break\n",
        "    \n",
        "print(X_train_mini.shape)\n",
        "print(y_train_mini.shape)"
      ],
      "metadata": {
        "colab": {
          "base_uri": "https://localhost:8080/"
        },
        "id": "f1RdT18nH05b",
        "outputId": "07f033e9-d6d0-49f7-ff94-ff5940f8a14d"
      },
      "execution_count": null,
      "outputs": [
        {
          "output_type": "stream",
          "name": "stdout",
          "text": [
            "(100, 784)\n",
            "(100,)\n"
          ]
        }
      ]
    },
    {
      "cell_type": "code",
      "source": [
        "def mse_loss(targets, probas, num_labels=10):\n",
        "    onehot_targets = int_to_onehot(targets, num_labels=num_labels)\n",
        "    return np.mean((onehot_targets - probas)**2)\n",
        "\n",
        "\n",
        "def accuracy(targets, predicted_labels):\n",
        "    return np.mean(predicted_labels == targets) \n",
        "\n",
        "\n",
        "_, _, probas = model.forward(X_valid)\n",
        "mse = mse_loss(y_valid, probas)\n",
        "\n",
        "predicted_labels = np.argmax(probas, axis=1)\n",
        "acc = accuracy(y_valid, predicted_labels)\n",
        "\n",
        "print(f'Initial validation MSE: {mse:.1f}')\n",
        "print(f'Initial validation accuracy: {acc*100:.1f}%')"
      ],
      "metadata": {
        "colab": {
          "base_uri": "https://localhost:8080/"
        },
        "id": "KNVfLAq1JuJn",
        "outputId": "7a29086e-f3e5-4bf1-c47e-d5178608cc6d"
      },
      "execution_count": null,
      "outputs": [
        {
          "output_type": "stream",
          "name": "stdout",
          "text": [
            "Initial validation MSE: 0.2\n",
            "Initial validation accuracy: 9.0%\n"
          ]
        }
      ]
    },
    {
      "cell_type": "code",
      "source": [
        "def compute_mse_and_acc(nnet, X, y, num_labels=10, minibatch_size=100):\n",
        "    mse, correct_pred, num_examples = 0., 0, 0\n",
        "    minibatch_gen = minibatch_generator(X, y, minibatch_size)\n",
        "        \n",
        "    for i, (features, targets) in enumerate(minibatch_gen):\n",
        "\n",
        "        _, _, probas = nnet.forward(features)\n",
        "        predicted_labels = np.argmax(probas, axis=1)\n",
        "        \n",
        "        onehot_targets = int_to_onehot(targets, num_labels=num_labels)\n",
        "        loss = np.mean((onehot_targets - probas)**2)\n",
        "        correct_pred += (predicted_labels == targets).sum()\n",
        "        \n",
        "        num_examples += targets.shape[0]\n",
        "        mse += loss\n",
        "\n",
        "    mse = mse/i\n",
        "    acc = correct_pred/num_examples\n",
        "    return mse, acc"
      ],
      "metadata": {
        "id": "M9KUmpqAVdAH"
      },
      "execution_count": null,
      "outputs": []
    },
    {
      "cell_type": "code",
      "source": [
        "mse, acc = compute_mse_and_acc(model, X_valid, y_valid)\n",
        "print(f'Initial valid MSE: {mse:.1f}')\n",
        "print(f'Initial valid accuracy: {acc*100:.1f}%')"
      ],
      "metadata": {
        "colab": {
          "base_uri": "https://localhost:8080/"
        },
        "id": "MlBgWvhtV4X-",
        "outputId": "7156e95f-0c3a-44fe-8f05-a317fec66670"
      },
      "execution_count": null,
      "outputs": [
        {
          "output_type": "stream",
          "name": "stdout",
          "text": [
            "Initial valid MSE: 0.3\n",
            "Initial valid accuracy: 9.0%\n"
          ]
        }
      ]
    },
    {
      "cell_type": "code",
      "source": [
        "def train(model, X_train, y_train, X_valid, y_valid, num_epochs,\n",
        "          learning_rate=0.1):\n",
        "    \n",
        "    epoch_loss = []\n",
        "    epoch_train_acc = []\n",
        "    epoch_valid_acc = []\n",
        "    \n",
        "    for e in range(num_epochs):\n",
        "\n",
        "        # iterate over minibatches\n",
        "        minibatch_gen = minibatch_generator(\n",
        "            X_train, y_train, minibatch_size)\n",
        "\n",
        "        for X_train_mini, y_train_mini in minibatch_gen:\n",
        "            \n",
        "            #### Compute outputs ####\n",
        "            a_h1, a_h2, a_out = model.forward(X_train_mini)\n",
        "\n",
        "            #### Compute gradients ####\n",
        "            d_loss__d_w_out, d_loss__d_b_out, d_loss__d_w_h2, d_loss__d_b_h2, d_loss__d_w_h1, d_loss__d_b_h1 = \\\n",
        "                model.backward(X_train_mini, a_h1, a_h2, a_out, y_train_mini)\n",
        "\n",
        "            #### Update weights ####\n",
        "            model.weight_h1 -= learning_rate * d_loss__d_w_h1\n",
        "            model.bias_h1 -= learning_rate * d_loss__d_b_h1\n",
        "            model.weight_h2 -= learning_rate * d_loss__d_w_h2\n",
        "            model.bias_h2 -= learning_rate * d_loss__d_b_h2\n",
        "            model.weight_out -= learning_rate * d_loss__d_w_out\n",
        "            model.bias_out -= learning_rate * d_loss__d_b_out\n",
        "        \n",
        "        #### Epoch Logging ####        \n",
        "        train_mse, train_acc = compute_mse_and_acc(model, X_train, y_train)\n",
        "        valid_mse, valid_acc = compute_mse_and_acc(model, X_valid, y_valid)\n",
        "        train_acc, valid_acc = train_acc*100, valid_acc*100\n",
        "        epoch_train_acc.append(train_acc)\n",
        "        epoch_valid_acc.append(valid_acc)\n",
        "        epoch_loss.append(train_mse)\n",
        "        print(f'Epoch: {e+1:03d}/{num_epochs:03d} '\n",
        "              f'| Train MSE: {train_mse:.2f} '\n",
        "              f'| Train Acc: {train_acc:.2f}% '\n",
        "              f'| Valid Acc: {valid_acc:.2f}%')\n",
        "\n",
        "    return epoch_loss, epoch_train_acc, epoch_valid_acc"
      ],
      "metadata": {
        "id": "KLfmzQIpWEvS"
      },
      "execution_count": null,
      "outputs": []
    },
    {
      "cell_type": "code",
      "source": [
        "np.random.seed(123) # for the training set shuffling\n",
        "\n",
        "epoch_loss, epoch_train_acc, epoch_valid_acc = train(\n",
        "    model, X_train, y_train, X_valid, y_valid,\n",
        "    num_epochs=50, learning_rate=0.1)"
      ],
      "metadata": {
        "colab": {
          "base_uri": "https://localhost:8080/"
        },
        "id": "uphD08TFX-4A",
        "outputId": "3fa93347-09e2-49d3-814a-12d25a5fa8d9"
      },
      "execution_count": null,
      "outputs": [
        {
          "output_type": "stream",
          "name": "stdout",
          "text": [
            "Epoch: 001/050 | Train MSE: 0.09 | Train Acc: 17.56% | Valid Acc: 17.65%\n",
            "Epoch: 002/050 | Train MSE: 0.09 | Train Acc: 28.97% | Valid Acc: 28.55%\n",
            "Epoch: 003/050 | Train MSE: 0.08 | Train Acc: 33.44% | Valid Acc: 33.12%\n",
            "Epoch: 004/050 | Train MSE: 0.07 | Train Acc: 48.04% | Valid Acc: 48.35%\n",
            "Epoch: 005/050 | Train MSE: 0.06 | Train Acc: 66.71% | Valid Acc: 66.84%\n",
            "Epoch: 006/050 | Train MSE: 0.05 | Train Acc: 71.34% | Valid Acc: 71.33%\n",
            "Epoch: 007/050 | Train MSE: 0.04 | Train Acc: 80.38% | Valid Acc: 80.69%\n",
            "Epoch: 008/050 | Train MSE: 0.03 | Train Acc: 84.59% | Valid Acc: 84.67%\n",
            "Epoch: 009/050 | Train MSE: 0.03 | Train Acc: 86.75% | Valid Acc: 87.02%\n",
            "Epoch: 010/050 | Train MSE: 0.02 | Train Acc: 87.77% | Valid Acc: 88.10%\n",
            "Epoch: 011/050 | Train MSE: 0.02 | Train Acc: 88.36% | Valid Acc: 88.69%\n",
            "Epoch: 012/050 | Train MSE: 0.02 | Train Acc: 89.16% | Valid Acc: 89.10%\n",
            "Epoch: 013/050 | Train MSE: 0.02 | Train Acc: 89.70% | Valid Acc: 89.76%\n",
            "Epoch: 014/050 | Train MSE: 0.02 | Train Acc: 90.09% | Valid Acc: 89.82%\n",
            "Epoch: 015/050 | Train MSE: 0.02 | Train Acc: 90.44% | Valid Acc: 90.18%\n",
            "Epoch: 016/050 | Train MSE: 0.02 | Train Acc: 90.57% | Valid Acc: 90.10%\n",
            "Epoch: 017/050 | Train MSE: 0.02 | Train Acc: 91.00% | Valid Acc: 90.61%\n",
            "Epoch: 018/050 | Train MSE: 0.02 | Train Acc: 91.25% | Valid Acc: 90.86%\n",
            "Epoch: 019/050 | Train MSE: 0.01 | Train Acc: 91.53% | Valid Acc: 91.06%\n",
            "Epoch: 020/050 | Train MSE: 0.01 | Train Acc: 91.83% | Valid Acc: 91.45%\n",
            "Epoch: 021/050 | Train MSE: 0.01 | Train Acc: 92.06% | Valid Acc: 91.57%\n",
            "Epoch: 022/050 | Train MSE: 0.01 | Train Acc: 92.27% | Valid Acc: 91.92%\n",
            "Epoch: 023/050 | Train MSE: 0.01 | Train Acc: 92.33% | Valid Acc: 92.02%\n",
            "Epoch: 024/050 | Train MSE: 0.01 | Train Acc: 92.53% | Valid Acc: 92.16%\n",
            "Epoch: 025/050 | Train MSE: 0.01 | Train Acc: 92.73% | Valid Acc: 92.37%\n",
            "Epoch: 026/050 | Train MSE: 0.01 | Train Acc: 92.98% | Valid Acc: 92.63%\n",
            "Epoch: 027/050 | Train MSE: 0.01 | Train Acc: 93.10% | Valid Acc: 92.57%\n",
            "Epoch: 028/050 | Train MSE: 0.01 | Train Acc: 93.18% | Valid Acc: 92.90%\n",
            "Epoch: 029/050 | Train MSE: 0.01 | Train Acc: 93.27% | Valid Acc: 92.73%\n",
            "Epoch: 030/050 | Train MSE: 0.01 | Train Acc: 93.47% | Valid Acc: 92.96%\n",
            "Epoch: 031/050 | Train MSE: 0.01 | Train Acc: 93.61% | Valid Acc: 93.08%\n",
            "Epoch: 032/050 | Train MSE: 0.01 | Train Acc: 93.73% | Valid Acc: 93.20%\n",
            "Epoch: 033/050 | Train MSE: 0.01 | Train Acc: 93.84% | Valid Acc: 93.33%\n",
            "Epoch: 034/050 | Train MSE: 0.01 | Train Acc: 94.00% | Valid Acc: 93.31%\n",
            "Epoch: 035/050 | Train MSE: 0.01 | Train Acc: 94.05% | Valid Acc: 93.67%\n",
            "Epoch: 036/050 | Train MSE: 0.01 | Train Acc: 94.15% | Valid Acc: 93.71%\n",
            "Epoch: 037/050 | Train MSE: 0.01 | Train Acc: 94.32% | Valid Acc: 93.73%\n",
            "Epoch: 038/050 | Train MSE: 0.01 | Train Acc: 94.44% | Valid Acc: 93.92%\n",
            "Epoch: 039/050 | Train MSE: 0.01 | Train Acc: 94.55% | Valid Acc: 94.00%\n",
            "Epoch: 040/050 | Train MSE: 0.01 | Train Acc: 94.66% | Valid Acc: 93.92%\n",
            "Epoch: 041/050 | Train MSE: 0.01 | Train Acc: 94.76% | Valid Acc: 94.16%\n",
            "Epoch: 042/050 | Train MSE: 0.01 | Train Acc: 94.79% | Valid Acc: 94.00%\n",
            "Epoch: 043/050 | Train MSE: 0.01 | Train Acc: 94.87% | Valid Acc: 94.12%\n",
            "Epoch: 044/050 | Train MSE: 0.01 | Train Acc: 94.98% | Valid Acc: 94.33%\n",
            "Epoch: 045/050 | Train MSE: 0.01 | Train Acc: 95.12% | Valid Acc: 94.59%\n",
            "Epoch: 046/050 | Train MSE: 0.01 | Train Acc: 95.16% | Valid Acc: 94.43%\n",
            "Epoch: 047/050 | Train MSE: 0.01 | Train Acc: 95.21% | Valid Acc: 94.47%\n",
            "Epoch: 048/050 | Train MSE: 0.01 | Train Acc: 95.33% | Valid Acc: 94.76%\n",
            "Epoch: 049/050 | Train MSE: 0.01 | Train Acc: 95.41% | Valid Acc: 94.59%\n",
            "Epoch: 050/050 | Train MSE: 0.01 | Train Acc: 95.48% | Valid Acc: 94.65%\n"
          ]
        }
      ]
    },
    {
      "cell_type": "code",
      "source": [
        "print(epoch_loss)\n",
        "print(epoch_train_acc)\n",
        "print(epoch_valid_acc)"
      ],
      "metadata": {
        "colab": {
          "base_uri": "https://localhost:8080/"
        },
        "id": "ZJ6nND5mP-n7",
        "outputId": "42cd8307-23ca-4b04-f852-df5edd6998c3"
      },
      "execution_count": null,
      "outputs": [
        {
          "output_type": "stream",
          "name": "stdout",
          "text": [
            "[0.08944289048254636, 0.08787089881874456, 0.0816715923642975, 0.06993977057940001, 0.058346356037590426, 0.04755625813090428, 0.03981542062978821, 0.03321015753075163, 0.02795875925285584, 0.024418634977475123, 0.02208927401074365, 0.02029009477075893, 0.019008999004807424, 0.01797805018867939, 0.0171173881841192, 0.01662662158086517, 0.015834543646573683, 0.015281329697380724, 0.014774876020054385, 0.014314281167972167, 0.013915460436119097, 0.013555342686363483, 0.01324931445778332, 0.012918120770240826, 0.012595853165919256, 0.012301162538197232, 0.012016970916130498, 0.011800451579203237, 0.011604654010857442, 0.011339003401050615, 0.011060346579611713, 0.010856256820904431, 0.010662331938058116, 0.010526909463250517, 0.010273525606190732, 0.010126939581723934, 0.009906943004245983, 0.009747061522647616, 0.00958373617689035, 0.009454080230246152, 0.009257945977263137, 0.009227951042003467, 0.009048952187160559, 0.008874601379068398, 0.008741087826211351, 0.00860989666754025, 0.008476317332341183, 0.008387662672234094, 0.008297761146132726, 0.008106600264321643]\n",
            "[17.560090702947846, 28.965986394557824, 33.435374149659864, 48.04081632653061, 66.71428571428571, 71.33786848072562, 80.38321995464852, 84.58956916099774, 86.75283446712018, 87.77324263038548, 88.35827664399093, 89.156462585034, 89.70068027210884, 90.09297052154194, 90.4421768707483, 90.57142857142857, 91.00226757369614, 91.25170068027211, 91.52607709750566, 91.8344671201814, 92.05668934240363, 92.27437641723355, 92.3265306122449, 92.53287981859411, 92.72562358276643, 92.97732426303855, 93.09977324263039, 93.18140589569161, 93.26757369614512, 93.47165532879819, 93.61451247165533, 93.73242630385488, 93.8390022675737, 93.99773242630386, 94.0453514739229, 94.15192743764173, 94.32426303854875, 94.43990929705215, 94.54648526077098, 94.65986394557822, 94.75963718820861, 94.78684807256236, 94.86621315192744, 94.97959183673468, 95.12244897959184, 95.15873015873015, 95.21315192743765, 95.33106575963718, 95.41043083900227, 95.48299319727892]\n",
            "[17.653061224489797, 28.551020408163264, 33.12244897959184, 48.3469387755102, 66.83673469387756, 71.3265306122449, 80.6938775510204, 84.6734693877551, 87.0204081632653, 88.10204081632654, 88.6938775510204, 89.10204081632654, 89.75510204081633, 89.81632653061224, 90.18367346938776, 90.10204081632654, 90.61224489795919, 90.85714285714286, 91.06122448979592, 91.44897959183673, 91.57142857142857, 91.91836734693878, 92.02040816326532, 92.16326530612244, 92.36734693877551, 92.63265306122449, 92.57142857142857, 92.89795918367348, 92.73469387755102, 92.9591836734694, 93.08163265306122, 93.20408163265306, 93.3265306122449, 93.3061224489796, 93.6734693877551, 93.71428571428572, 93.73469387755102, 93.91836734693878, 94.0, 93.91836734693878, 94.16326530612244, 94.0, 94.12244897959184, 94.3265306122449, 94.59183673469389, 94.42857142857143, 94.46938775510205, 94.75510204081633, 94.59183673469389, 94.6530612244898]\n"
          ]
        }
      ]
    },
    {
      "cell_type": "code",
      "source": [
        "import matplotlib.pyplot as plt\n",
        "plt.plot(range(len(epoch_loss)), epoch_loss)\n",
        "plt.ylabel('Mean squared error')\n",
        "plt.xlabel('Epoch')\n",
        "#plt.savefig('figures/11_07.png', dpi=300)\n",
        "plt.show()"
      ],
      "metadata": {
        "colab": {
          "base_uri": "https://localhost:8080/",
          "height": 279
        },
        "id": "xymDXa8OY_A_",
        "outputId": "ddf30784-dc25-40fa-9656-b1df85f0ac48"
      },
      "execution_count": null,
      "outputs": [
        {
          "output_type": "display_data",
          "data": {
            "text/plain": [
              "<Figure size 432x288 with 1 Axes>"
            ],
            "image/png": "[encoded data removed]"
          },
          "metadata": {
            "needs_background": "light"
          }
        }
      ]
    },
    {
      "cell_type": "code",
      "source": [
        "plt.plot(range(len(epoch_train_acc)), epoch_train_acc,\n",
        "         label='Training')\n",
        "plt.plot(range(len(epoch_valid_acc)), epoch_valid_acc,\n",
        "         label='Validation')\n",
        "plt.ylabel('Accuracy')\n",
        "plt.xlabel('Epochs')\n",
        "plt.legend(loc='lower right')\n",
        "#plt.savefig('figures/11_08.png', dpi=300)\n",
        "plt.show()\n"
      ],
      "metadata": {
        "colab": {
          "base_uri": "https://localhost:8080/",
          "height": 279
        },
        "id": "d4Na7jF8ZRpo",
        "outputId": "fe00e8e5-0c65-4e9d-95c4-be241b5583c6"
      },
      "execution_count": null,
      "outputs": [
        {
          "output_type": "display_data",
          "data": {
            "text/plain": [
              "<Figure size 432x288 with 1 Axes>"
            ],
            "image/png": "[encoded data removed]"
          },
          "metadata": {
            "needs_background": "light"
          }
        }
      ]
    },
    {
      "cell_type": "code",
      "source": [
        "test_mse, test_acc = compute_mse_and_acc(model, X_test, y_test)\n",
        "print(f'Test accuracy: {test_acc*100:.2f}%')"
      ],
      "metadata": {
        "colab": {
          "base_uri": "https://localhost:8080/"
        },
        "id": "8YhmCEg6Z0_3",
        "outputId": "9e8ce160-5fc3-40cd-e358-f2d5f7219d18"
      },
      "execution_count": null,
      "outputs": [
        {
          "output_type": "stream",
          "name": "stdout",
          "text": [
            "Test accuracy: 94.54%\n"
          ]
        }
      ]
    },
    {
      "cell_type": "code",
      "source": [
        "import matplotlib\n",
        "#matplotlib.use('agg')\n",
        "import matplotlib.pyplot as plt\n",
        "from scipy import interp\n",
        "from itertools import cycle\n",
        "import numpy as np\n",
        "\n",
        "from sklearn.metrics import roc_curve, auc\n",
        "from sklearn.metrics import confusion_matrix\n",
        "from sklearn.preprocessing import label_binarize\n",
        "\n",
        "def plot_roc(y_true, y_predicted, labels, y_true_is_one_hot=False, y_predicted_is_one_hot=False, plot_micro=True, plot_macro=True, plot_roc_per_class=True, plot_title=\"\", save_plot=True):\n",
        "\n",
        "    print(\"Plotting ROC curve....\")\n",
        "    n_classes = len(labels)\n",
        "\n",
        "    if y_predicted_is_one_hot:\n",
        "      Y_score = y_predicted #clf.decision_function(iris_X)\n",
        "    else:\n",
        "      Y_score = label_binarize(y_predicted, classes = labels) \n",
        "    if y_true_is_one_hot:\n",
        "      Y_onehot = y_true\n",
        "    else:\n",
        "      Y_onehot = label_binarize(y_true, classes = labels)\n",
        "    #Y_onehot = label_binarize(iris_Y, classes = labels)\n",
        "    \n",
        "\n",
        "    fpr = dict()\n",
        "    tpr = dict()\n",
        "    roc_auc = dict()\n",
        "    \n",
        "    for i in range(n_classes):\n",
        "        fpr[i], tpr[i], _ = roc_curve(Y_onehot[:,i], Y_score[:,i])\n",
        "        roc_auc[i] = auc(fpr[i], tpr[i])\n",
        "    fpr[\"micro\"], tpr[\"micro\"], _ = roc_curve(Y_onehot.ravel(), Y_score.ravel())\n",
        "    roc_auc[\"micro\"] = auc(fpr[\"micro\"], tpr[\"micro\"])\n",
        "    \n",
        "    # Compute macro-average ROC curve and ROC area\n",
        "\n",
        "    # First aggregate all false positive rates\n",
        "    all_fpr = np.unique(np.concatenate([fpr[i] for i in range(n_classes)]))\n",
        "\n",
        "    # Then interpolate all ROC curves at this points\n",
        "    mean_tpr = np.zeros_like(all_fpr)\n",
        "    for i in range(n_classes):\n",
        "        mean_tpr += interp(all_fpr, fpr[i], tpr[i])\n",
        "\n",
        "    # Finally average it and compute AUC\n",
        "    mean_tpr /= n_classes\n",
        "\n",
        "    fpr[\"macro\"] = all_fpr\n",
        "    tpr[\"macro\"] = mean_tpr\n",
        "    roc_auc[\"macro\"] = auc(fpr[\"macro\"], tpr[\"macro\"])\n",
        "\n",
        "    print(roc_auc)\n",
        "\n",
        "    # Plot all ROC curves\n",
        "    fig = plt.figure(figsize=(12, 10), dpi=75)\n",
        "    # set lineweight\n",
        "    lw = 2\n",
        "\n",
        "    # plot micro average\n",
        "    if plot_micro:\n",
        "      plt.plot(fpr[\"micro\"], tpr[\"micro\"],\n",
        "              label='micro-average ROC curve (area = {0:0.3f})'\n",
        "                    ''.format(roc_auc[\"micro\"]),\n",
        "              color='deeppink', linestyle=':', linewidth=4)\n",
        "\n",
        "    # plot macro average\n",
        "    if plot_macro:\n",
        "      # print(\"fpr-macro:\")\n",
        "      # print(fpr[\"macro\"])\n",
        "      # print(\"tpr-macro:\")\n",
        "      # print(tpr[\"macro\"])\n",
        "      plt.plot(fpr[\"macro\"], tpr[\"macro\"],\n",
        "              label='macro-average ROC curve (area = {0:0.3f})'\n",
        "                    ''.format(roc_auc[\"macro\"]),\n",
        "              color='navy', linestyle=':', linewidth=4)\n",
        "\n",
        "    # plot ROC for each class\n",
        "    if plot_roc_per_class:\n",
        "      colors = cycle(['aqua', 'darkorange', 'cornflowerblue'])\n",
        "      for i, color in zip(range(n_classes), colors):    \n",
        "          plt.plot(fpr[i], tpr[i], color=color, lw=lw,\n",
        "                  label='ROC curve of class {0} (area = {1:0.3f})'\n",
        "                  ''.format(labels[i], roc_auc[i]))\n",
        "\n",
        "    # plot diagnal line\n",
        "    plt.plot([0, 1], [0, 1], 'k--', lw=lw)\n",
        "\n",
        "    plt.xlim([0.0, 1.0])\n",
        "    plt.ylim([0.0, 1.05])\n",
        "    plt.xlabel('False Positive Rate')\n",
        "    plt.ylabel('True Positive Rate')\n",
        "    plt.title(plot_title)\n",
        "    plt.legend(loc=\"lower right\")\n",
        "    if save_plot:\n",
        "      fig.savefig(\"roc.png\", bbox_inches='tight')\n",
        "\n",
        "    print(\"ROC curve plotted.\")"
      ],
      "metadata": {
        "id": "EUo_KHj5uy3j"
      },
      "execution_count": null,
      "outputs": []
    },
    {
      "cell_type": "code",
      "source": [
        "dummy, dummy2, probas = model.forward(X_test)\n",
        "test_pred = np.argmax(probas, axis=1)"
      ],
      "metadata": {
        "id": "8oyJc7BVvBlb"
      },
      "execution_count": null,
      "outputs": []
    },
    {
      "cell_type": "code",
      "source": [
        "probas.shape"
      ],
      "metadata": {
        "colab": {
          "base_uri": "https://localhost:8080/"
        },
        "id": "B_xdIWKX8Wm9",
        "outputId": "1deea049-0653-4711-a85f-38d2063e9f01"
      },
      "execution_count": null,
      "outputs": [
        {
          "output_type": "execute_result",
          "data": {
            "text/plain": [
              "(21000, 10)"
            ]
          },
          "metadata": {},
          "execution_count": 19
        }
      ]
    },
    {
      "cell_type": "code",
      "source": [
        "plot_roc(y_test, probas, np.arange(10), y_true_is_one_hot=False, y_predicted_is_one_hot=True, plot_micro=False, plot_macro=True, plot_roc_per_class=False, plot_title=\"Chapter 11 - 2 Hidden layers\", save_plot=True)"
      ],
      "metadata": {
        "colab": {
          "base_uri": "https://localhost:8080/",
          "height": 738
        },
        "id": "-6pFXZdhvO0S",
        "outputId": "542e4c4e-b2da-4011-f5d0-9fb126261c40"
      },
      "execution_count": null,
      "outputs": [
        {
          "output_type": "stream",
          "name": "stdout",
          "text": [
            "Plotting ROC curve....\n"
          ]
        },
        {
          "output_type": "stream",
          "name": "stderr",
          "text": [
            "/usr/local/lib/python3.7/dist-packages/ipykernel_launcher.py:46: DeprecationWarning: scipy.interp is deprecated and will be removed in SciPy 2.0.0, use numpy.interp instead\n"
          ]
        },
        {
          "output_type": "stream",
          "name": "stdout",
          "text": [
            "{0: 0.9978327358589401, 1: 0.9981283506063038, 2: 0.9883124172497139, 3: 0.9894151176927093, 4: 0.9961116371712289, 5: 0.9850779417579311, 6: 0.998550056184203, 7: 0.9930899546401788, 8: 0.9932291426201719, 9: 0.9872662331396093, 'micro': 0.9931296006550769, 'macro': 0.9927254150979453}\n",
            "ROC curve plotted.\n"
          ]
        },
        {
          "output_type": "display_data",
          "data": {
            "text/plain": [
              "<Figure size 900x750 with 1 Axes>"
            ],
            "image/png": "[encoded data removed]"
          },
          "metadata": {
            "needs_background": "light"
          }
        }
      ]
    },
    {
      "cell_type": "code",
      "source": [
        ""
      ],
      "metadata": {
        "id": "ybY1xdZjwQiA"
      },
      "execution_count": null,
      "outputs": []
    },
    {
      "cell_type": "code",
      "source": [
        "# accuracy per class\n",
        "\n",
        "df_comp = pd.DataFrame()\n",
        "df_comp['y_test'] = y_test\n",
        "df_comp['y_pred'] = test_pred\n",
        "print(\"\\n\")\n",
        "acc_per_class = []\n",
        "for i in range(10):\n",
        "  acc_per_class.append(df_comp[(df_comp['y_test'] == i) & (df_comp['y_pred']== i)]['y_test'].count() / df_comp[(df_comp['y_test'] == i)]['y_test'].count())\n",
        "\n",
        "print(acc_per_class)"
      ],
      "metadata": {
        "colab": {
          "base_uri": "https://localhost:8080/"
        },
        "id": "12fD1jzRwTcn",
        "outputId": "8765b6ce-8749-4712-a97d-ab6716c6e2bb"
      },
      "execution_count": null,
      "outputs": [
        {
          "output_type": "stream",
          "name": "stdout",
          "text": [
            "\n",
            "\n",
            "[0.9811685176243361, 0.9784172661870504, 0.9337148307105388, 0.9248366013071896, 0.945285784074255, 0.9123548046462513, 0.9641299079011149, 0.9456124314442413, 0.9326171875, 0.9214183037853378]\n"
          ]
        }
      ]
    }
  ]
}